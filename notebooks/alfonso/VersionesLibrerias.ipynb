{
 "cells": [
  {
   "cell_type": "markdown",
   "id": "dabb2c3c-724d-40a6-9da6-d329040fe717",
   "metadata": {},
   "source": [
    "# Versiones"
   ]
  },
  {
   "cell_type": "code",
   "execution_count": 1,
   "id": "f88a1bc0-352f-4c53-89e2-1bc70375c645",
   "metadata": {},
   "outputs": [],
   "source": [
    "import os\n",
    "import sys\n",
    "import random\n",
    "import matplotlib\n",
    "import numpy as np\n",
    "import seaborn as sn\n",
    "import pandas as pd\n",
    "import sklearn\n",
    "\n",
    "\n"
   ]
  },
  {
   "cell_type": "code",
   "execution_count": 2,
   "id": "373149d0-12a8-4b0d-a479-c546cd64aa93",
   "metadata": {},
   "outputs": [
    {
     "name": "stdout",
     "output_type": "stream",
     "text": [
      "Python version\n",
      "3.10.14 | packaged by Anaconda, Inc. | (main, May  6 2024, 19:44:50) [MSC v.1916 64 bit (AMD64)]\n",
      "matplotlib version\n",
      "3.9.2\n",
      "numpy version\n",
      "1.26.4\n",
      "seaborn version\n",
      "0.13.2\n",
      "pandas version\n",
      "2.2.2\n",
      "sklearn version\n",
      "1.5.1\n"
     ]
    }
   ],
   "source": [
    "print(\"Python version\")\n",
    "print (sys.version)\n",
    "\n",
    "\n",
    "print(\"matplotlib version\")\n",
    "print (matplotlib.__version__)\n",
    "\n",
    "print(\"numpy version\")\n",
    "print (np.__version__)\n",
    "\n",
    "print(\"seaborn version\")\n",
    "print (sn.__version__)\n",
    "\n",
    "print(\"pandas version\")\n",
    "print (pd.__version__)\n",
    "\n",
    "print(\"sklearn version\")\n",
    "print (sklearn.__version__)\n"
   ]
  },
  {
   "cell_type": "markdown",
   "id": "e917910c-9c4e-444d-ba00-ee369fcebfa3",
   "metadata": {},
   "source": [
    "Python version\n",
    "3.10.14 | packaged by Anaconda, Inc. | (main, May  6 2024, 19:44:50) [MSC v.1916 64 bit (AMD64)]\n",
    "matplotlib version\n",
    "3.9.2\n",
    "numpy version\n",
    "1.26.4\n",
    "seaborn version\n",
    "0.13.2\n",
    "pandas version\n",
    "2.2.2\n",
    "sklearn version\n",
    "1.5.1"
   ]
  }
 ],
 "metadata": {
  "kernelspec": {
   "display_name": "Python 3 (ipykernel)",
   "language": "python",
   "name": "python3"
  },
  "language_info": {
   "codemirror_mode": {
    "name": "ipython",
    "version": 3
   },
   "file_extension": ".py",
   "mimetype": "text/x-python",
   "name": "python",
   "nbconvert_exporter": "python",
   "pygments_lexer": "ipython3",
   "version": "3.10.14"
  }
 },
 "nbformat": 4,
 "nbformat_minor": 5
}
