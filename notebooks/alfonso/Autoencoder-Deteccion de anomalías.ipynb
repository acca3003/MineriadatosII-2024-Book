{
 "cells": [
  {
   "cell_type": "markdown",
   "metadata": {},
   "source": [
    "# Autoencoders: Detección de anomalías\n",
    "# Práctica Electrocardiograma"
   ]
  },
  {
   "cell_type": "markdown",
   "metadata": {},
   "source": [
    "Entrenar un autoencoder con los **ritmos normales** nos permitirá detectar anomalías. Así, una vez entrenado el modelo, puede usarse para reconstruir todos los datos (normales y anómalos).\n",
    "\n",
    "La hipótesis que subyace en el trabajo es que los ritmos anormales van a tener un mayor **error de reconstrucción**. Así, sería clasificado un ritmo como una anomalía si el error de reconstrucción supera un umbral prefijado a partir de los datos de entrenamiento."
   ]
  },
  {
   "cell_type": "code",
   "execution_count": 1,
   "metadata": {
    "executionInfo": {
     "elapsed": 2689,
     "status": "ok",
     "timestamp": 1606558765504,
     "user": {
      "displayName": "Alberto Oteo",
      "photoUrl": "https://lh3.googleusercontent.com/a-/AOh14GiRyrv0-6M6vUfKhlSklqdFhXXPYfvgGzkAiHL8tA=s64",
      "userId": "02424174392037988918"
     },
     "user_tz": -60
    },
    "id": "YfIk2es3hJEd"
   },
   "outputs": [
    {
     "data": {
      "text/html": [
       "<div>\n",
       "<style scoped>\n",
       "    .dataframe tbody tr th:only-of-type {\n",
       "        vertical-align: middle;\n",
       "    }\n",
       "\n",
       "    .dataframe tbody tr th {\n",
       "        vertical-align: top;\n",
       "    }\n",
       "\n",
       "    .dataframe thead th {\n",
       "        text-align: right;\n",
       "    }\n",
       "</style>\n",
       "<table border=\"1\" class=\"dataframe\">\n",
       "  <thead>\n",
       "    <tr style=\"text-align: right;\">\n",
       "      <th></th>\n",
       "      <th>0</th>\n",
       "      <th>1</th>\n",
       "      <th>2</th>\n",
       "      <th>3</th>\n",
       "      <th>4</th>\n",
       "      <th>5</th>\n",
       "      <th>6</th>\n",
       "      <th>7</th>\n",
       "      <th>8</th>\n",
       "      <th>9</th>\n",
       "      <th>...</th>\n",
       "      <th>131</th>\n",
       "      <th>132</th>\n",
       "      <th>133</th>\n",
       "      <th>134</th>\n",
       "      <th>135</th>\n",
       "      <th>136</th>\n",
       "      <th>137</th>\n",
       "      <th>138</th>\n",
       "      <th>139</th>\n",
       "      <th>140</th>\n",
       "    </tr>\n",
       "  </thead>\n",
       "  <tbody>\n",
       "    <tr>\n",
       "      <th>0</th>\n",
       "      <td>-0.112522</td>\n",
       "      <td>-2.827204</td>\n",
       "      <td>-3.773897</td>\n",
       "      <td>-4.349751</td>\n",
       "      <td>-4.376041</td>\n",
       "      <td>-3.474986</td>\n",
       "      <td>-2.181408</td>\n",
       "      <td>-1.818286</td>\n",
       "      <td>-1.250522</td>\n",
       "      <td>-0.477492</td>\n",
       "      <td>...</td>\n",
       "      <td>0.792168</td>\n",
       "      <td>0.933541</td>\n",
       "      <td>0.796958</td>\n",
       "      <td>0.578621</td>\n",
       "      <td>0.257740</td>\n",
       "      <td>0.228077</td>\n",
       "      <td>0.123431</td>\n",
       "      <td>0.925286</td>\n",
       "      <td>0.193137</td>\n",
       "      <td>1.0</td>\n",
       "    </tr>\n",
       "    <tr>\n",
       "      <th>1</th>\n",
       "      <td>-1.100878</td>\n",
       "      <td>-3.996840</td>\n",
       "      <td>-4.285843</td>\n",
       "      <td>-4.506579</td>\n",
       "      <td>-4.022377</td>\n",
       "      <td>-3.234368</td>\n",
       "      <td>-1.566126</td>\n",
       "      <td>-0.992258</td>\n",
       "      <td>-0.754680</td>\n",
       "      <td>0.042321</td>\n",
       "      <td>...</td>\n",
       "      <td>0.538356</td>\n",
       "      <td>0.656881</td>\n",
       "      <td>0.787490</td>\n",
       "      <td>0.724046</td>\n",
       "      <td>0.555784</td>\n",
       "      <td>0.476333</td>\n",
       "      <td>0.773820</td>\n",
       "      <td>1.119621</td>\n",
       "      <td>-1.436250</td>\n",
       "      <td>1.0</td>\n",
       "    </tr>\n",
       "    <tr>\n",
       "      <th>2</th>\n",
       "      <td>-0.567088</td>\n",
       "      <td>-2.593450</td>\n",
       "      <td>-3.874230</td>\n",
       "      <td>-4.584095</td>\n",
       "      <td>-4.187449</td>\n",
       "      <td>-3.151462</td>\n",
       "      <td>-1.742940</td>\n",
       "      <td>-1.490659</td>\n",
       "      <td>-1.183580</td>\n",
       "      <td>-0.394229</td>\n",
       "      <td>...</td>\n",
       "      <td>0.886073</td>\n",
       "      <td>0.531452</td>\n",
       "      <td>0.311377</td>\n",
       "      <td>-0.021919</td>\n",
       "      <td>-0.713683</td>\n",
       "      <td>-0.532197</td>\n",
       "      <td>0.321097</td>\n",
       "      <td>0.904227</td>\n",
       "      <td>-0.421797</td>\n",
       "      <td>1.0</td>\n",
       "    </tr>\n",
       "    <tr>\n",
       "      <th>3</th>\n",
       "      <td>0.490473</td>\n",
       "      <td>-1.914407</td>\n",
       "      <td>-3.616364</td>\n",
       "      <td>-4.318823</td>\n",
       "      <td>-4.268016</td>\n",
       "      <td>-3.881110</td>\n",
       "      <td>-2.993280</td>\n",
       "      <td>-1.671131</td>\n",
       "      <td>-1.333884</td>\n",
       "      <td>-0.965629</td>\n",
       "      <td>...</td>\n",
       "      <td>0.350816</td>\n",
       "      <td>0.499111</td>\n",
       "      <td>0.600345</td>\n",
       "      <td>0.842069</td>\n",
       "      <td>0.952074</td>\n",
       "      <td>0.990133</td>\n",
       "      <td>1.086798</td>\n",
       "      <td>1.403011</td>\n",
       "      <td>-0.383564</td>\n",
       "      <td>1.0</td>\n",
       "    </tr>\n",
       "    <tr>\n",
       "      <th>4</th>\n",
       "      <td>0.800232</td>\n",
       "      <td>-0.874252</td>\n",
       "      <td>-2.384761</td>\n",
       "      <td>-3.973292</td>\n",
       "      <td>-4.338224</td>\n",
       "      <td>-3.802422</td>\n",
       "      <td>-2.534510</td>\n",
       "      <td>-1.783423</td>\n",
       "      <td>-1.594450</td>\n",
       "      <td>-0.753199</td>\n",
       "      <td>...</td>\n",
       "      <td>1.148884</td>\n",
       "      <td>0.958434</td>\n",
       "      <td>1.059025</td>\n",
       "      <td>1.371682</td>\n",
       "      <td>1.277392</td>\n",
       "      <td>0.960304</td>\n",
       "      <td>0.971020</td>\n",
       "      <td>1.614392</td>\n",
       "      <td>1.421456</td>\n",
       "      <td>1.0</td>\n",
       "    </tr>\n",
       "  </tbody>\n",
       "</table>\n",
       "<p>5 rows × 141 columns</p>\n",
       "</div>"
      ],
      "text/plain": [
       "        0         1         2         3         4         5         6    \\\n",
       "0 -0.112522 -2.827204 -3.773897 -4.349751 -4.376041 -3.474986 -2.181408   \n",
       "1 -1.100878 -3.996840 -4.285843 -4.506579 -4.022377 -3.234368 -1.566126   \n",
       "2 -0.567088 -2.593450 -3.874230 -4.584095 -4.187449 -3.151462 -1.742940   \n",
       "3  0.490473 -1.914407 -3.616364 -4.318823 -4.268016 -3.881110 -2.993280   \n",
       "4  0.800232 -0.874252 -2.384761 -3.973292 -4.338224 -3.802422 -2.534510   \n",
       "\n",
       "        7         8         9    ...       131       132       133       134  \\\n",
       "0 -1.818286 -1.250522 -0.477492  ...  0.792168  0.933541  0.796958  0.578621   \n",
       "1 -0.992258 -0.754680  0.042321  ...  0.538356  0.656881  0.787490  0.724046   \n",
       "2 -1.490659 -1.183580 -0.394229  ...  0.886073  0.531452  0.311377 -0.021919   \n",
       "3 -1.671131 -1.333884 -0.965629  ...  0.350816  0.499111  0.600345  0.842069   \n",
       "4 -1.783423 -1.594450 -0.753199  ...  1.148884  0.958434  1.059025  1.371682   \n",
       "\n",
       "        135       136       137       138       139  140  \n",
       "0  0.257740  0.228077  0.123431  0.925286  0.193137  1.0  \n",
       "1  0.555784  0.476333  0.773820  1.119621 -1.436250  1.0  \n",
       "2 -0.713683 -0.532197  0.321097  0.904227 -0.421797  1.0  \n",
       "3  0.952074  0.990133  1.086798  1.403011 -0.383564  1.0  \n",
       "4  1.277392  0.960304  0.971020  1.614392  1.421456  1.0  \n",
       "\n",
       "[5 rows x 141 columns]"
      ]
     },
     "execution_count": 1,
     "metadata": {},
     "output_type": "execute_result"
    }
   ],
   "source": [
    "import matplotlib.pyplot as plt\n",
    "import numpy as np\n",
    "import pandas as pd\n",
    "import tensorflow as tf\n",
    "import seaborn as sns\n",
    "\n",
    "from sklearn.metrics import accuracy_score, precision_score, recall_score, confusion_matrix\n",
    "from sklearn.model_selection import train_test_split\n",
    "from sklearn.preprocessing import MinMaxScaler\n",
    "\n",
    "# semilla reproducción de datos\n",
    "from numpy.random import seed\n",
    "seed(222)\n",
    "\n",
    "from tensorflow import random\n",
    "random.set_seed(222)\n",
    "\n",
    "ecg = pd.read_csv('http://storage.googleapis.com/download.tensorflow.org/data/ecg.csv', header=None)\n",
    "raw_data = ecg.values\n",
    "\n",
    "ecg.head()"
   ]
  },
  {
   "cell_type": "code",
   "execution_count": 2,
   "metadata": {},
   "outputs": [
    {
     "data": {
      "text/html": [
       "<div>\n",
       "<style scoped>\n",
       "    .dataframe tbody tr th:only-of-type {\n",
       "        vertical-align: middle;\n",
       "    }\n",
       "\n",
       "    .dataframe tbody tr th {\n",
       "        vertical-align: top;\n",
       "    }\n",
       "\n",
       "    .dataframe thead th {\n",
       "        text-align: right;\n",
       "    }\n",
       "</style>\n",
       "<table border=\"1\" class=\"dataframe\">\n",
       "  <thead>\n",
       "    <tr style=\"text-align: right;\">\n",
       "      <th></th>\n",
       "      <th>0</th>\n",
       "      <th>1</th>\n",
       "      <th>2</th>\n",
       "      <th>3</th>\n",
       "      <th>4</th>\n",
       "      <th>5</th>\n",
       "      <th>6</th>\n",
       "      <th>7</th>\n",
       "      <th>8</th>\n",
       "      <th>9</th>\n",
       "      <th>...</th>\n",
       "      <th>131</th>\n",
       "      <th>132</th>\n",
       "      <th>133</th>\n",
       "      <th>134</th>\n",
       "      <th>135</th>\n",
       "      <th>136</th>\n",
       "      <th>137</th>\n",
       "      <th>138</th>\n",
       "      <th>139</th>\n",
       "      <th>140</th>\n",
       "    </tr>\n",
       "  </thead>\n",
       "  <tbody>\n",
       "    <tr>\n",
       "      <th>count</th>\n",
       "      <td>4998.000000</td>\n",
       "      <td>4998.000000</td>\n",
       "      <td>4998.000000</td>\n",
       "      <td>4998.000000</td>\n",
       "      <td>4998.000000</td>\n",
       "      <td>4998.000000</td>\n",
       "      <td>4998.000000</td>\n",
       "      <td>4998.000000</td>\n",
       "      <td>4998.000000</td>\n",
       "      <td>4998.000000</td>\n",
       "      <td>...</td>\n",
       "      <td>4998.000000</td>\n",
       "      <td>4998.000000</td>\n",
       "      <td>4998.000000</td>\n",
       "      <td>4998.000000</td>\n",
       "      <td>4998.000000</td>\n",
       "      <td>4998.000000</td>\n",
       "      <td>4998.000000</td>\n",
       "      <td>4998.000000</td>\n",
       "      <td>4998.000000</td>\n",
       "      <td>4998.000000</td>\n",
       "    </tr>\n",
       "    <tr>\n",
       "      <th>mean</th>\n",
       "      <td>-0.262502</td>\n",
       "      <td>-1.649828</td>\n",
       "      <td>-2.492623</td>\n",
       "      <td>-3.119754</td>\n",
       "      <td>-3.167656</td>\n",
       "      <td>-2.866306</td>\n",
       "      <td>-2.272845</td>\n",
       "      <td>-1.797754</td>\n",
       "      <td>-1.409784</td>\n",
       "      <td>-0.935806</td>\n",
       "      <td>...</td>\n",
       "      <td>0.071312</td>\n",
       "      <td>-0.062622</td>\n",
       "      <td>-0.276086</td>\n",
       "      <td>-0.507750</td>\n",
       "      <td>-0.761323</td>\n",
       "      <td>-0.835173</td>\n",
       "      <td>-0.642739</td>\n",
       "      <td>-0.487667</td>\n",
       "      <td>-0.706574</td>\n",
       "      <td>0.584034</td>\n",
       "    </tr>\n",
       "    <tr>\n",
       "      <th>std</th>\n",
       "      <td>1.152450</td>\n",
       "      <td>1.445542</td>\n",
       "      <td>1.386457</td>\n",
       "      <td>1.302921</td>\n",
       "      <td>1.104535</td>\n",
       "      <td>0.906312</td>\n",
       "      <td>0.731594</td>\n",
       "      <td>0.622794</td>\n",
       "      <td>0.636863</td>\n",
       "      <td>0.657788</td>\n",
       "      <td>...</td>\n",
       "      <td>1.404425</td>\n",
       "      <td>1.646105</td>\n",
       "      <td>1.894515</td>\n",
       "      <td>2.059366</td>\n",
       "      <td>2.086130</td>\n",
       "      <td>2.056296</td>\n",
       "      <td>1.859409</td>\n",
       "      <td>1.831088</td>\n",
       "      <td>1.414414</td>\n",
       "      <td>0.492937</td>\n",
       "    </tr>\n",
       "    <tr>\n",
       "      <th>min</th>\n",
       "      <td>-6.729499</td>\n",
       "      <td>-7.090374</td>\n",
       "      <td>-5.132459</td>\n",
       "      <td>-5.363241</td>\n",
       "      <td>-5.375715</td>\n",
       "      <td>-5.330194</td>\n",
       "      <td>-4.782240</td>\n",
       "      <td>-4.311288</td>\n",
       "      <td>-4.071361</td>\n",
       "      <td>-4.142476</td>\n",
       "      <td>...</td>\n",
       "      <td>-4.167040</td>\n",
       "      <td>-4.557576</td>\n",
       "      <td>-4.530488</td>\n",
       "      <td>-4.563270</td>\n",
       "      <td>-5.150100</td>\n",
       "      <td>-4.880460</td>\n",
       "      <td>-5.496107</td>\n",
       "      <td>-5.880890</td>\n",
       "      <td>-6.092227</td>\n",
       "      <td>0.000000</td>\n",
       "    </tr>\n",
       "    <tr>\n",
       "      <th>25%</th>\n",
       "      <td>-1.004220</td>\n",
       "      <td>-2.701936</td>\n",
       "      <td>-3.668585</td>\n",
       "      <td>-4.227337</td>\n",
       "      <td>-4.007630</td>\n",
       "      <td>-3.480666</td>\n",
       "      <td>-2.779832</td>\n",
       "      <td>-2.165808</td>\n",
       "      <td>-1.773870</td>\n",
       "      <td>-1.362003</td>\n",
       "      <td>...</td>\n",
       "      <td>-1.087720</td>\n",
       "      <td>-1.588237</td>\n",
       "      <td>-2.146835</td>\n",
       "      <td>-2.730750</td>\n",
       "      <td>-3.031224</td>\n",
       "      <td>-2.868603</td>\n",
       "      <td>-2.154560</td>\n",
       "      <td>-1.658289</td>\n",
       "      <td>-1.596809</td>\n",
       "      <td>0.000000</td>\n",
       "    </tr>\n",
       "    <tr>\n",
       "      <th>50%</th>\n",
       "      <td>-0.297541</td>\n",
       "      <td>-1.661892</td>\n",
       "      <td>-2.586129</td>\n",
       "      <td>-3.388210</td>\n",
       "      <td>-3.469899</td>\n",
       "      <td>-2.947061</td>\n",
       "      <td>-2.285427</td>\n",
       "      <td>-1.750084</td>\n",
       "      <td>-1.422457</td>\n",
       "      <td>-0.910384</td>\n",
       "      <td>...</td>\n",
       "      <td>0.658318</td>\n",
       "      <td>0.717808</td>\n",
       "      <td>0.604747</td>\n",
       "      <td>0.334857</td>\n",
       "      <td>-0.030767</td>\n",
       "      <td>-0.195151</td>\n",
       "      <td>-0.194423</td>\n",
       "      <td>-0.160262</td>\n",
       "      <td>-0.568443</td>\n",
       "      <td>1.000000</td>\n",
       "    </tr>\n",
       "    <tr>\n",
       "      <th>75%</th>\n",
       "      <td>0.499909</td>\n",
       "      <td>-0.677998</td>\n",
       "      <td>-1.514187</td>\n",
       "      <td>-2.235690</td>\n",
       "      <td>-2.531153</td>\n",
       "      <td>-2.398797</td>\n",
       "      <td>-1.823480</td>\n",
       "      <td>-1.484107</td>\n",
       "      <td>-1.063592</td>\n",
       "      <td>-0.476477</td>\n",
       "      <td>...</td>\n",
       "      <td>1.169392</td>\n",
       "      <td>1.238651</td>\n",
       "      <td>1.264379</td>\n",
       "      <td>1.234408</td>\n",
       "      <td>1.033957</td>\n",
       "      <td>0.945027</td>\n",
       "      <td>0.951621</td>\n",
       "      <td>1.002628</td>\n",
       "      <td>0.271635</td>\n",
       "      <td>1.000000</td>\n",
       "    </tr>\n",
       "    <tr>\n",
       "      <th>max</th>\n",
       "      <td>4.966414</td>\n",
       "      <td>3.479689</td>\n",
       "      <td>2.660597</td>\n",
       "      <td>1.899798</td>\n",
       "      <td>2.147015</td>\n",
       "      <td>1.614375</td>\n",
       "      <td>1.868728</td>\n",
       "      <td>1.804251</td>\n",
       "      <td>1.683730</td>\n",
       "      <td>1.898627</td>\n",
       "      <td>...</td>\n",
       "      <td>3.007606</td>\n",
       "      <td>2.854680</td>\n",
       "      <td>2.912394</td>\n",
       "      <td>2.937685</td>\n",
       "      <td>3.351437</td>\n",
       "      <td>3.432519</td>\n",
       "      <td>3.579448</td>\n",
       "      <td>4.425976</td>\n",
       "      <td>7.402103</td>\n",
       "      <td>1.000000</td>\n",
       "    </tr>\n",
       "  </tbody>\n",
       "</table>\n",
       "<p>8 rows × 141 columns</p>\n",
       "</div>"
      ],
      "text/plain": [
       "               0            1            2            3            4    \\\n",
       "count  4998.000000  4998.000000  4998.000000  4998.000000  4998.000000   \n",
       "mean     -0.262502    -1.649828    -2.492623    -3.119754    -3.167656   \n",
       "std       1.152450     1.445542     1.386457     1.302921     1.104535   \n",
       "min      -6.729499    -7.090374    -5.132459    -5.363241    -5.375715   \n",
       "25%      -1.004220    -2.701936    -3.668585    -4.227337    -4.007630   \n",
       "50%      -0.297541    -1.661892    -2.586129    -3.388210    -3.469899   \n",
       "75%       0.499909    -0.677998    -1.514187    -2.235690    -2.531153   \n",
       "max       4.966414     3.479689     2.660597     1.899798     2.147015   \n",
       "\n",
       "               5            6            7            8            9    ...  \\\n",
       "count  4998.000000  4998.000000  4998.000000  4998.000000  4998.000000  ...   \n",
       "mean     -2.866306    -2.272845    -1.797754    -1.409784    -0.935806  ...   \n",
       "std       0.906312     0.731594     0.622794     0.636863     0.657788  ...   \n",
       "min      -5.330194    -4.782240    -4.311288    -4.071361    -4.142476  ...   \n",
       "25%      -3.480666    -2.779832    -2.165808    -1.773870    -1.362003  ...   \n",
       "50%      -2.947061    -2.285427    -1.750084    -1.422457    -0.910384  ...   \n",
       "75%      -2.398797    -1.823480    -1.484107    -1.063592    -0.476477  ...   \n",
       "max       1.614375     1.868728     1.804251     1.683730     1.898627  ...   \n",
       "\n",
       "               131          132          133          134          135  \\\n",
       "count  4998.000000  4998.000000  4998.000000  4998.000000  4998.000000   \n",
       "mean      0.071312    -0.062622    -0.276086    -0.507750    -0.761323   \n",
       "std       1.404425     1.646105     1.894515     2.059366     2.086130   \n",
       "min      -4.167040    -4.557576    -4.530488    -4.563270    -5.150100   \n",
       "25%      -1.087720    -1.588237    -2.146835    -2.730750    -3.031224   \n",
       "50%       0.658318     0.717808     0.604747     0.334857    -0.030767   \n",
       "75%       1.169392     1.238651     1.264379     1.234408     1.033957   \n",
       "max       3.007606     2.854680     2.912394     2.937685     3.351437   \n",
       "\n",
       "               136          137          138          139          140  \n",
       "count  4998.000000  4998.000000  4998.000000  4998.000000  4998.000000  \n",
       "mean     -0.835173    -0.642739    -0.487667    -0.706574     0.584034  \n",
       "std       2.056296     1.859409     1.831088     1.414414     0.492937  \n",
       "min      -4.880460    -5.496107    -5.880890    -6.092227     0.000000  \n",
       "25%      -2.868603    -2.154560    -1.658289    -1.596809     0.000000  \n",
       "50%      -0.195151    -0.194423    -0.160262    -0.568443     1.000000  \n",
       "75%       0.945027     0.951621     1.002628     0.271635     1.000000  \n",
       "max       3.432519     3.579448     4.425976     7.402103     1.000000  \n",
       "\n",
       "[8 rows x 141 columns]"
      ]
     },
     "execution_count": 2,
     "metadata": {},
     "output_type": "execute_result"
    }
   ],
   "source": [
    "# Resumen estadístico de las variables \n",
    "ecg.describe()"
   ]
  },
  {
   "cell_type": "markdown",
   "metadata": {},
   "source": [
    "Puede verse que el dataset está etiquetado (variable \"140\") de forma que el problema podría ser planteado como aprendizaje supervisado. Sin embargo, en este caso, se hará uso del diseño de un autoencoder para ilustrar conceptos de detección de anomalías."
   ]
  },
  {
   "cell_type": "code",
   "execution_count": 3,
   "metadata": {},
   "outputs": [
    {
     "name": "stdout",
     "output_type": "stream",
     "text": [
      "Tamaño muestra (num)\n",
      "target\n",
      "1.0    2919\n",
      "0.0    2079\n",
      "Name: count, dtype: int64\n",
      "Tamaño muestra (%)\n",
      "target\n",
      "1.0    58.4\n",
      "0.0    41.6\n",
      "Name: proportion, dtype: float64\n"
     ]
    }
   ],
   "source": [
    "ecg = ecg.rename(columns={140: 'target'})\n",
    "\n",
    "print('Tamaño muestra (num)')\n",
    "print(ecg['target'].value_counts())\n",
    "\n",
    "print('Tamaño muestra (%)')\n",
    "print(np.round(ecg['target'].value_counts(normalize=True),4)*100)"
   ]
  },
  {
   "cell_type": "markdown",
   "metadata": {},
   "source": [
    "Destacar que, en este caso, los **ritmos normales** han sido etiquetados como **\"1\"**. \n",
    "\n",
    "Como en cualquier proceso de aprendizaje automático, se divide la muestra en entrenamiento (80%) y test (20%). Asimismo, se lleva a cabo una normalización de las variables predictoras."
   ]
  },
  {
   "cell_type": "code",
   "execution_count": 4,
   "metadata": {},
   "outputs": [],
   "source": [
    "# Partición de la muestra\n",
    "train_data, test_data = train_test_split(ecg, test_size=0.2, random_state=123)\n",
    "\n",
    "# Escalado de las variables\n",
    "sc = MinMaxScaler().fit(train_data.drop(['target'], axis=1))\n",
    "train_data_esc = sc.transform(train_data.drop(['target'], axis=1))\n",
    "test_data_esc = sc.transform(test_data.drop(['target'], axis=1))"
   ]
  },
  {
   "cell_type": "markdown",
   "metadata": {},
   "source": [
    "Se identifican los registros correspondientes con un electrocardiograma normal (el autoencoder se entrena solo con estos datos)."
   ]
  },
  {
   "cell_type": "code",
   "execution_count": 5,
   "metadata": {},
   "outputs": [],
   "source": [
    "# identificación del target \n",
    "labels_train = train_data['target']\n",
    "labels_test = test_data['target']\n",
    "\n",
    "labels_train = labels_train.astype(bool)\n",
    "labels_test = labels_test.astype(bool)\n",
    "\n",
    "# Datos normales y anómalos\n",
    "normal_train_data = train_data_esc[labels_train]\n",
    "normal_test_data = test_data_esc[labels_test]\n",
    "\n",
    "anomalous_train_data = train_data_esc[~labels_train]\n",
    "anomalous_test_data = test_data_esc[~labels_test]"
   ]
  },
  {
   "cell_type": "markdown",
   "metadata": {},
   "source": [
    "A modo comparativo, se grafican los electrocardiogramas (normal y anómalo)."
   ]
  },
  {
   "cell_type": "code",
   "execution_count": 6,
   "metadata": {
    "colab": {
     "base_uri": "https://localhost:8080/",
     "height": 281
    },
    "executionInfo": {
     "elapsed": 672,
     "status": "ok",
     "timestamp": 1606561818982,
     "user": {
      "displayName": "Alberto Oteo",
      "photoUrl": "https://lh3.googleusercontent.com/a-/AOh14GiRyrv0-6M6vUfKhlSklqdFhXXPYfvgGzkAiHL8tA=s64",
      "userId": "02424174392037988918"
     },
     "user_tz": -60
    },
    "id": "zrpXREF2siBr",
    "outputId": "fd54a399-7d30-40cf-b169-74ef768a2ed4"
   },
   "outputs": [
    {
     "data": {
      "image/png": "[encoded data removed]",
      "text/plain": [
       "<Figure size 1200x600 with 2 Axes>"
      ]
     },
     "metadata": {},
     "output_type": "display_data"
    }
   ],
   "source": [
    "fig, (ax1, ax2) = plt.subplots(1, 2, figsize=(12,6))\n",
    "\n",
    "ax1.plot(np.arange(normal_train_data.shape[1]), normal_train_data[0])\n",
    "ax2.plot(np.arange(anomalous_train_data.shape[1]), anomalous_train_data[0])\n",
    "ax1.set_title('Electrocardiograma Normal', fontsize=10)\n",
    "ax2.set_title('Electrocardiograma Anómalo', fontsize=10)\n",
    "\n",
    "plt.show()"
   ]
  },
  {
   "cell_type": "markdown",
   "metadata": {
    "id": "0DS6QKZJslZz"
   },
   "source": [
    "### Construcción del modelo"
   ]
  },
  {
   "cell_type": "markdown",
   "metadata": {},
   "source": [
    "Se construye el autoencoder siguiendo el módulo *Funcional* de Tensorflow."
   ]
  },
  {
   "cell_type": "code",
   "execution_count": 7,
   "metadata": {
    "id": "HaNT3vBJi_-Q"
   },
   "outputs": [],
   "source": [
    "entrada = normal_train_data.shape[1]\n",
    "\n",
    "# fase de comprensión de los datos\n",
    "input_encoder = tf.keras.Input(shape=(entrada,)) # capa de entrada del autoencoder\n",
    "enc1 = tf.keras.layers.Dense(units = 32, activation = \"relu\")(input_encoder)\n",
    "encoder = tf.keras.layers.Dense(units = 8, activation = \"relu\")(enc1)\n",
    "\n",
    "# modelo encoder\n",
    "encoder_model = tf.keras.Model(inputs=input_encoder, outputs=encoder)\n",
    "\n",
    "# fase decodificador de los datos\n",
    "input_decoder = tf.keras.Input(shape=(8,))\n",
    "dec1= tf.keras.layers.Dense(units = 32, activation = \"relu\")(input_decoder)\n",
    "decoder = tf.keras.layers.Dense(units = entrada, activation = \"sigmoid\")(dec1)\n",
    "\n",
    "decoder_model = tf.keras.Model(inputs = input_decoder, outputs = decoder)\n",
    "\n",
    "# Modelo autoencoder\n",
    "encoder_decoder = input_encoder \n",
    "encoder_decoder = encoder_model(encoder_decoder)\n",
    "encoder_decoder = decoder_model(encoder_decoder)\n",
    "                  \n",
    "autoencoder = tf.keras.Model(inputs = input_encoder, outputs = encoder_decoder)\n",
    "\n",
    "\n",
    "# Nota: otra forma de construir el autoencoder (apilamiento de capas)\n",
    "# recordar que siguiendo la API funcional un modelo se obtiene mediante la unión de capas\n",
    "\n",
    "# inputs = tf.keras.Input(shape=(entrada,))\n",
    "# hidden1 = tf.keras.layers.Dense(32, activation=\"relu\")(inputs)\n",
    "# hidden2 = tf.keras.layers.Dense(8, activation=\"relu\")(hidden1)\n",
    "# hidden3 = tf.keras.layers.Dense(32, activation=\"relu\")(hidden2)\n",
    "# capas_encoder_decoder = tf.keras.layers.Dense(entrada, activation=\"sigmoid\")(hidden3)\n",
    "    \n",
    "# autoencoder2 = tf.keras.Model(inputs=inputs, outputs=capas_encoder_decoder)"
   ]
  },
  {
   "cell_type": "markdown",
   "metadata": {},
   "source": [
    "Se presenta un resumen de las capas, neuronas y parámetros del modelo creado."
   ]
  },
  {
   "cell_type": "code",
   "execution_count": 8,
   "metadata": {},
   "outputs": [
    {
     "data": {
      "text/html": [
       "<pre style=\"white-space:pre;overflow-x:auto;line-height:normal;font-family:Menlo,'DejaVu Sans Mono',consolas,'Courier New',monospace\"><span style=\"font-weight: bold\">Model: \"functional_5\"</span>\n",
       "</pre>\n"
      ],
      "text/plain": [
       "\u001b[1mModel: \"functional_5\"\u001b[0m\n"
      ]
     },
     "metadata": {},
     "output_type": "display_data"
    },
    {
     "data": {
      "text/html": [
       "<pre style=\"white-space:pre;overflow-x:auto;line-height:normal;font-family:Menlo,'DejaVu Sans Mono',consolas,'Courier New',monospace\">┏━━━━━━━━━━━━━━━━━━━━━━━━━━━━━━━━━━━━━━┳━━━━━━━━━━━━━━━━━━━━━━━━━━━━━┳━━━━━━━━━━━━━━━━━┓\n",
       "┃<span style=\"font-weight: bold\"> Layer (type)                         </span>┃<span style=\"font-weight: bold\"> Output Shape                </span>┃<span style=\"font-weight: bold\">         Param # </span>┃\n",
       "┡━━━━━━━━━━━━━━━━━━━━━━━━━━━━━━━━━━━━━━╇━━━━━━━━━━━━━━━━━━━━━━━━━━━━━╇━━━━━━━━━━━━━━━━━┩\n",
       "│ input_layer (<span style=\"color: #0087ff; text-decoration-color: #0087ff\">InputLayer</span>)             │ (<span style=\"color: #00d7ff; text-decoration-color: #00d7ff\">None</span>, <span style=\"color: #00af00; text-decoration-color: #00af00\">140</span>)                 │               <span style=\"color: #00af00; text-decoration-color: #00af00\">0</span> │\n",
       "├──────────────────────────────────────┼─────────────────────────────┼─────────────────┤\n",
       "│ functional_1 (<span style=\"color: #0087ff; text-decoration-color: #0087ff\">Functional</span>)            │ (<span style=\"color: #00d7ff; text-decoration-color: #00d7ff\">None</span>, <span style=\"color: #00af00; text-decoration-color: #00af00\">8</span>)                   │           <span style=\"color: #00af00; text-decoration-color: #00af00\">4,776</span> │\n",
       "├──────────────────────────────────────┼─────────────────────────────┼─────────────────┤\n",
       "│ functional_3 (<span style=\"color: #0087ff; text-decoration-color: #0087ff\">Functional</span>)            │ (<span style=\"color: #00d7ff; text-decoration-color: #00d7ff\">None</span>, <span style=\"color: #00af00; text-decoration-color: #00af00\">140</span>)                 │           <span style=\"color: #00af00; text-decoration-color: #00af00\">4,908</span> │\n",
       "└──────────────────────────────────────┴─────────────────────────────┴─────────────────┘\n",
       "</pre>\n"
      ],
      "text/plain": [
       "┏━━━━━━━━━━━━━━━━━━━━━━━━━━━━━━━━━━━━━━┳━━━━━━━━━━━━━━━━━━━━━━━━━━━━━┳━━━━━━━━━━━━━━━━━┓\n",
       "┃\u001b[1m \u001b[0m\u001b[1mLayer (type)                        \u001b[0m\u001b[1m \u001b[0m┃\u001b[1m \u001b[0m\u001b[1mOutput Shape               \u001b[0m\u001b[1m \u001b[0m┃\u001b[1m \u001b[0m\u001b[1m        Param #\u001b[0m\u001b[1m \u001b[0m┃\n",
       "┡━━━━━━━━━━━━━━━━━━━━━━━━━━━━━━━━━━━━━━╇━━━━━━━━━━━━━━━━━━━━━━━━━━━━━╇━━━━━━━━━━━━━━━━━┩\n",
       "│ input_layer (\u001b[38;5;33mInputLayer\u001b[0m)             │ (\u001b[38;5;45mNone\u001b[0m, \u001b[38;5;34m140\u001b[0m)                 │               \u001b[38;5;34m0\u001b[0m │\n",
       "├──────────────────────────────────────┼─────────────────────────────┼─────────────────┤\n",
       "│ functional_1 (\u001b[38;5;33mFunctional\u001b[0m)            │ (\u001b[38;5;45mNone\u001b[0m, \u001b[38;5;34m8\u001b[0m)                   │           \u001b[38;5;34m4,776\u001b[0m │\n",
       "├──────────────────────────────────────┼─────────────────────────────┼─────────────────┤\n",
       "│ functional_3 (\u001b[38;5;33mFunctional\u001b[0m)            │ (\u001b[38;5;45mNone\u001b[0m, \u001b[38;5;34m140\u001b[0m)                 │           \u001b[38;5;34m4,908\u001b[0m │\n",
       "└──────────────────────────────────────┴─────────────────────────────┴─────────────────┘\n"
      ]
     },
     "metadata": {},
     "output_type": "display_data"
    },
    {
     "data": {
      "text/html": [
       "<pre style=\"white-space:pre;overflow-x:auto;line-height:normal;font-family:Menlo,'DejaVu Sans Mono',consolas,'Courier New',monospace\"><span style=\"font-weight: bold\"> Total params: </span><span style=\"color: #00af00; text-decoration-color: #00af00\">9,684</span> (37.83 KB)\n",
       "</pre>\n"
      ],
      "text/plain": [
       "\u001b[1m Total params: \u001b[0m\u001b[38;5;34m9,684\u001b[0m (37.83 KB)\n"
      ]
     },
     "metadata": {},
     "output_type": "display_data"
    },
    {
     "data": {
      "text/html": [
       "<pre style=\"white-space:pre;overflow-x:auto;line-height:normal;font-family:Menlo,'DejaVu Sans Mono',consolas,'Courier New',monospace\"><span style=\"font-weight: bold\"> Trainable params: </span><span style=\"color: #00af00; text-decoration-color: #00af00\">9,684</span> (37.83 KB)\n",
       "</pre>\n"
      ],
      "text/plain": [
       "\u001b[1m Trainable params: \u001b[0m\u001b[38;5;34m9,684\u001b[0m (37.83 KB)\n"
      ]
     },
     "metadata": {},
     "output_type": "display_data"
    },
    {
     "data": {
      "text/html": [
       "<pre style=\"white-space:pre;overflow-x:auto;line-height:normal;font-family:Menlo,'DejaVu Sans Mono',consolas,'Courier New',monospace\"><span style=\"font-weight: bold\"> Non-trainable params: </span><span style=\"color: #00af00; text-decoration-color: #00af00\">0</span> (0.00 B)\n",
       "</pre>\n"
      ],
      "text/plain": [
       "\u001b[1m Non-trainable params: \u001b[0m\u001b[38;5;34m0\u001b[0m (0.00 B)\n"
      ]
     },
     "metadata": {},
     "output_type": "display_data"
    }
   ],
   "source": [
    "autoencoder.summary()"
   ]
  },
  {
   "cell_type": "markdown",
   "metadata": {},
   "source": [
    "Finalmente, se compila y se procede a entrenar el modelo."
   ]
  },
  {
   "cell_type": "code",
   "execution_count": 9,
   "metadata": {},
   "outputs": [
    {
     "name": "stdout",
     "output_type": "stream",
     "text": [
      "Epoch 1/50\n",
      "\u001b[1m15/15\u001b[0m \u001b[32m━━━━━━━━━━━━━━━━━━━━\u001b[0m\u001b[37m\u001b[0m \u001b[1m1s\u001b[0m 9ms/step - loss: 0.1338 - val_loss: 0.1199\n",
      "Epoch 2/50\n",
      "\u001b[1m15/15\u001b[0m \u001b[32m━━━━━━━━━━━━━━━━━━━━\u001b[0m\u001b[37m\u001b[0m \u001b[1m0s\u001b[0m 4ms/step - loss: 0.1111 - val_loss: 0.0879\n",
      "Epoch 3/50\n",
      "\u001b[1m15/15\u001b[0m \u001b[32m━━━━━━━━━━━━━━━━━━━━\u001b[0m\u001b[37m\u001b[0m \u001b[1m0s\u001b[0m 3ms/step - loss: 0.0809 - val_loss: 0.0663\n",
      "Epoch 4/50\n",
      "\u001b[1m15/15\u001b[0m \u001b[32m━━━━━━━━━━━━━━━━━━━━\u001b[0m\u001b[37m\u001b[0m \u001b[1m0s\u001b[0m 3ms/step - loss: 0.0618 - val_loss: 0.0548\n",
      "Epoch 5/50\n",
      "\u001b[1m15/15\u001b[0m \u001b[32m━━━━━━━━━━━━━━━━━━━━\u001b[0m\u001b[37m\u001b[0m \u001b[1m0s\u001b[0m 3ms/step - loss: 0.0520 - val_loss: 0.0502\n",
      "Epoch 6/50\n",
      "\u001b[1m15/15\u001b[0m \u001b[32m━━━━━━━━━━━━━━━━━━━━\u001b[0m\u001b[37m\u001b[0m \u001b[1m0s\u001b[0m 4ms/step - loss: 0.0485 - val_loss: 0.0485\n",
      "Epoch 7/50\n",
      "\u001b[1m15/15\u001b[0m \u001b[32m━━━━━━━━━━━━━━━━━━━━\u001b[0m\u001b[37m\u001b[0m \u001b[1m0s\u001b[0m 4ms/step - loss: 0.0469 - val_loss: 0.0474\n",
      "Epoch 8/50\n",
      "\u001b[1m15/15\u001b[0m \u001b[32m━━━━━━━━━━━━━━━━━━━━\u001b[0m\u001b[37m\u001b[0m \u001b[1m0s\u001b[0m 3ms/step - loss: 0.0458 - val_loss: 0.0462\n",
      "Epoch 9/50\n",
      "\u001b[1m15/15\u001b[0m \u001b[32m━━━━━━━━━━━━━━━━━━━━\u001b[0m\u001b[37m\u001b[0m \u001b[1m0s\u001b[0m 2ms/step - loss: 0.0445 - val_loss: 0.0444\n",
      "Epoch 10/50\n",
      "\u001b[1m15/15\u001b[0m \u001b[32m━━━━━━━━━━━━━━━━━━━━\u001b[0m\u001b[37m\u001b[0m \u001b[1m0s\u001b[0m 2ms/step - loss: 0.0429 - val_loss: 0.0424\n",
      "Epoch 11/50\n",
      "\u001b[1m15/15\u001b[0m \u001b[32m━━━━━━━━━━━━━━━━━━━━\u001b[0m\u001b[37m\u001b[0m \u001b[1m0s\u001b[0m 2ms/step - loss: 0.0410 - val_loss: 0.0406\n",
      "Epoch 12/50\n",
      "\u001b[1m15/15\u001b[0m \u001b[32m━━━━━━━━━━━━━━━━━━━━\u001b[0m\u001b[37m\u001b[0m \u001b[1m0s\u001b[0m 2ms/step - loss: 0.0396 - val_loss: 0.0393\n",
      "Epoch 13/50\n",
      "\u001b[1m15/15\u001b[0m \u001b[32m━━━━━━━━━━━━━━━━━━━━\u001b[0m\u001b[37m\u001b[0m \u001b[1m0s\u001b[0m 2ms/step - loss: 0.0385 - val_loss: 0.0384\n",
      "Epoch 14/50\n",
      "\u001b[1m15/15\u001b[0m \u001b[32m━━━━━━━━━━━━━━━━━━━━\u001b[0m\u001b[37m\u001b[0m \u001b[1m0s\u001b[0m 2ms/step - loss: 0.0377 - val_loss: 0.0379\n",
      "Epoch 15/50\n",
      "\u001b[1m15/15\u001b[0m \u001b[32m━━━━━━━━━━━━━━━━━━━━\u001b[0m\u001b[37m\u001b[0m \u001b[1m0s\u001b[0m 2ms/step - loss: 0.0372 - val_loss: 0.0374\n",
      "Epoch 16/50\n",
      "\u001b[1m15/15\u001b[0m \u001b[32m━━━━━━━━━━━━━━━━━━━━\u001b[0m\u001b[37m\u001b[0m \u001b[1m0s\u001b[0m 3ms/step - loss: 0.0368 - val_loss: 0.0371\n",
      "Epoch 17/50\n",
      "\u001b[1m15/15\u001b[0m \u001b[32m━━━━━━━━━━━━━━━━━━━━\u001b[0m\u001b[37m\u001b[0m \u001b[1m0s\u001b[0m 2ms/step - loss: 0.0365 - val_loss: 0.0368\n",
      "Epoch 18/50\n",
      "\u001b[1m15/15\u001b[0m \u001b[32m━━━━━━━━━━━━━━━━━━━━\u001b[0m\u001b[37m\u001b[0m \u001b[1m0s\u001b[0m 3ms/step - loss: 0.0362 - val_loss: 0.0364\n",
      "Epoch 19/50\n",
      "\u001b[1m15/15\u001b[0m \u001b[32m━━━━━━━━━━━━━━━━━━━━\u001b[0m\u001b[37m\u001b[0m \u001b[1m0s\u001b[0m 2ms/step - loss: 0.0358 - val_loss: 0.0360\n",
      "Epoch 20/50\n",
      "\u001b[1m15/15\u001b[0m \u001b[32m━━━━━━━━━━━━━━━━━━━━\u001b[0m\u001b[37m\u001b[0m \u001b[1m0s\u001b[0m 2ms/step - loss: 0.0354 - val_loss: 0.0356\n",
      "Epoch 21/50\n",
      "\u001b[1m15/15\u001b[0m \u001b[32m━━━━━━━━━━━━━━━━━━━━\u001b[0m\u001b[37m\u001b[0m \u001b[1m0s\u001b[0m 2ms/step - loss: 0.0350 - val_loss: 0.0352\n",
      "Epoch 22/50\n",
      "\u001b[1m15/15\u001b[0m \u001b[32m━━━━━━━━━━━━━━━━━━━━\u001b[0m\u001b[37m\u001b[0m \u001b[1m0s\u001b[0m 2ms/step - loss: 0.0346 - val_loss: 0.0347\n",
      "Epoch 23/50\n",
      "\u001b[1m15/15\u001b[0m \u001b[32m━━━━━━━━━━━━━━━━━━━━\u001b[0m\u001b[37m\u001b[0m \u001b[1m0s\u001b[0m 2ms/step - loss: 0.0341 - val_loss: 0.0342\n",
      "Epoch 24/50\n",
      "\u001b[1m15/15\u001b[0m \u001b[32m━━━━━━━━━━━━━━━━━━━━\u001b[0m\u001b[37m\u001b[0m \u001b[1m0s\u001b[0m 3ms/step - loss: 0.0335 - val_loss: 0.0336\n",
      "Epoch 25/50\n",
      "\u001b[1m15/15\u001b[0m \u001b[32m━━━━━━━━━━━━━━━━━━━━\u001b[0m\u001b[37m\u001b[0m \u001b[1m0s\u001b[0m 3ms/step - loss: 0.0329 - val_loss: 0.0329\n",
      "Epoch 26/50\n",
      "\u001b[1m15/15\u001b[0m \u001b[32m━━━━━━━━━━━━━━━━━━━━\u001b[0m\u001b[37m\u001b[0m \u001b[1m0s\u001b[0m 3ms/step - loss: 0.0322 - val_loss: 0.0322\n",
      "Epoch 27/50\n",
      "\u001b[1m15/15\u001b[0m \u001b[32m━━━━━━━━━━━━━━━━━━━━\u001b[0m\u001b[37m\u001b[0m \u001b[1m0s\u001b[0m 3ms/step - loss: 0.0316 - val_loss: 0.0315\n",
      "Epoch 28/50\n",
      "\u001b[1m15/15\u001b[0m \u001b[32m━━━━━━━━━━━━━━━━━━━━\u001b[0m\u001b[37m\u001b[0m \u001b[1m0s\u001b[0m 3ms/step - loss: 0.0309 - val_loss: 0.0309\n",
      "Epoch 29/50\n",
      "\u001b[1m15/15\u001b[0m \u001b[32m━━━━━━━━━━━━━━━━━━━━\u001b[0m\u001b[37m\u001b[0m \u001b[1m0s\u001b[0m 3ms/step - loss: 0.0303 - val_loss: 0.0304\n",
      "Epoch 30/50\n",
      "\u001b[1m15/15\u001b[0m \u001b[32m━━━━━━━━━━━━━━━━━━━━\u001b[0m\u001b[37m\u001b[0m \u001b[1m0s\u001b[0m 4ms/step - loss: 0.0297 - val_loss: 0.0299\n",
      "Epoch 31/50\n",
      "\u001b[1m15/15\u001b[0m \u001b[32m━━━━━━━━━━━━━━━━━━━━\u001b[0m\u001b[37m\u001b[0m \u001b[1m0s\u001b[0m 2ms/step - loss: 0.0292 - val_loss: 0.0294\n",
      "Epoch 32/50\n",
      "\u001b[1m15/15\u001b[0m \u001b[32m━━━━━━━━━━━━━━━━━━━━\u001b[0m\u001b[37m\u001b[0m \u001b[1m0s\u001b[0m 3ms/step - loss: 0.0288 - val_loss: 0.0289\n",
      "Epoch 33/50\n",
      "\u001b[1m15/15\u001b[0m \u001b[32m━━━━━━━━━━━━━━━━━━━━\u001b[0m\u001b[37m\u001b[0m \u001b[1m0s\u001b[0m 2ms/step - loss: 0.0283 - val_loss: 0.0285\n",
      "Epoch 34/50\n",
      "\u001b[1m15/15\u001b[0m \u001b[32m━━━━━━━━━━━━━━━━━━━━\u001b[0m\u001b[37m\u001b[0m \u001b[1m0s\u001b[0m 3ms/step - loss: 0.0279 - val_loss: 0.0281\n",
      "Epoch 35/50\n",
      "\u001b[1m15/15\u001b[0m \u001b[32m━━━━━━━━━━━━━━━━━━━━\u001b[0m\u001b[37m\u001b[0m \u001b[1m0s\u001b[0m 3ms/step - loss: 0.0275 - val_loss: 0.0278\n",
      "Epoch 36/50\n",
      "\u001b[1m15/15\u001b[0m \u001b[32m━━━━━━━━━━━━━━━━━━━━\u001b[0m\u001b[37m\u001b[0m \u001b[1m0s\u001b[0m 3ms/step - loss: 0.0272 - val_loss: 0.0273\n",
      "Epoch 37/50\n",
      "\u001b[1m15/15\u001b[0m \u001b[32m━━━━━━━━━━━━━━━━━━━━\u001b[0m\u001b[37m\u001b[0m \u001b[1m0s\u001b[0m 2ms/step - loss: 0.0268 - val_loss: 0.0270\n",
      "Epoch 38/50\n",
      "\u001b[1m15/15\u001b[0m \u001b[32m━━━━━━━━━━━━━━━━━━━━\u001b[0m\u001b[37m\u001b[0m \u001b[1m0s\u001b[0m 2ms/step - loss: 0.0265 - val_loss: 0.0266\n",
      "Epoch 39/50\n",
      "\u001b[1m15/15\u001b[0m \u001b[32m━━━━━━━━━━━━━━━━━━━━\u001b[0m\u001b[37m\u001b[0m \u001b[1m0s\u001b[0m 3ms/step - loss: 0.0262 - val_loss: 0.0263\n",
      "Epoch 40/50\n",
      "\u001b[1m15/15\u001b[0m \u001b[32m━━━━━━━━━━━━━━━━━━━━\u001b[0m\u001b[37m\u001b[0m \u001b[1m0s\u001b[0m 3ms/step - loss: 0.0258 - val_loss: 0.0260\n",
      "Epoch 41/50\n",
      "\u001b[1m15/15\u001b[0m \u001b[32m━━━━━━━━━━━━━━━━━━━━\u001b[0m\u001b[37m\u001b[0m \u001b[1m0s\u001b[0m 3ms/step - loss: 0.0255 - val_loss: 0.0257\n",
      "Epoch 42/50\n",
      "\u001b[1m15/15\u001b[0m \u001b[32m━━━━━━━━━━━━━━━━━━━━\u001b[0m\u001b[37m\u001b[0m \u001b[1m0s\u001b[0m 3ms/step - loss: 0.0253 - val_loss: 0.0255\n",
      "Epoch 43/50\n",
      "\u001b[1m15/15\u001b[0m \u001b[32m━━━━━━━━━━━━━━━━━━━━\u001b[0m\u001b[37m\u001b[0m \u001b[1m0s\u001b[0m 2ms/step - loss: 0.0250 - val_loss: 0.0252\n",
      "Epoch 44/50\n",
      "\u001b[1m15/15\u001b[0m \u001b[32m━━━━━━━━━━━━━━━━━━━━\u001b[0m\u001b[37m\u001b[0m \u001b[1m0s\u001b[0m 2ms/step - loss: 0.0248 - val_loss: 0.0251\n",
      "Epoch 45/50\n",
      "\u001b[1m15/15\u001b[0m \u001b[32m━━━━━━━━━━━━━━━━━━━━\u001b[0m\u001b[37m\u001b[0m \u001b[1m0s\u001b[0m 2ms/step - loss: 0.0246 - val_loss: 0.0249\n",
      "Epoch 46/50\n",
      "\u001b[1m15/15\u001b[0m \u001b[32m━━━━━━━━━━━━━━━━━━━━\u001b[0m\u001b[37m\u001b[0m \u001b[1m0s\u001b[0m 2ms/step - loss: 0.0244 - val_loss: 0.0247\n",
      "Epoch 47/50\n",
      "\u001b[1m15/15\u001b[0m \u001b[32m━━━━━━━━━━━━━━━━━━━━\u001b[0m\u001b[37m\u001b[0m \u001b[1m0s\u001b[0m 5ms/step - loss: 0.0243 - val_loss: 0.0246\n",
      "Epoch 48/50\n",
      "\u001b[1m15/15\u001b[0m \u001b[32m━━━━━━━━━━━━━━━━━━━━\u001b[0m\u001b[37m\u001b[0m \u001b[1m0s\u001b[0m 2ms/step - loss: 0.0241 - val_loss: 0.0245\n",
      "Epoch 49/50\n",
      "\u001b[1m15/15\u001b[0m \u001b[32m━━━━━━━━━━━━━━━━━━━━\u001b[0m\u001b[37m\u001b[0m \u001b[1m0s\u001b[0m 2ms/step - loss: 0.0240 - val_loss: 0.0243\n",
      "Epoch 50/50\n",
      "\u001b[1m15/15\u001b[0m \u001b[32m━━━━━━━━━━━━━━━━━━━━\u001b[0m\u001b[37m\u001b[0m \u001b[1m0s\u001b[0m 3ms/step - loss: 0.0239 - val_loss: 0.0242\n"
     ]
    }
   ],
   "source": [
    "autoencoder.compile(optimizer='adam', loss='mae')\n",
    "\n",
    "hist = autoencoder.fit(normal_train_data,\n",
    "              normal_train_data,\n",
    "              epochs=50,\n",
    "              validation_split=0.2,\n",
    "              batch_size=128,\n",
    "              callbacks=[tf.keras.callbacks.EarlyStopping(monitor='val_loss', patience=15)])"
   ]
  },
  {
   "cell_type": "markdown",
   "metadata": {},
   "source": [
    "Se muestra el resumen de la bondad de ajuste en el entrenamiento del modelo:"
   ]
  },
  {
   "cell_type": "code",
   "execution_count": 10,
   "metadata": {},
   "outputs": [
    {
     "data": {
      "image/png": "[encoded data removed]",
      "text/plain": [
       "<Figure size 640x480 with 1 Axes>"
      ]
     },
     "metadata": {},
     "output_type": "display_data"
    }
   ],
   "source": [
    "# construcción de un data.frame\n",
    "df_train=pd.DataFrame(hist.history)\n",
    "df_train['epochs']=hist.epoch\n",
    "\n",
    "plt.plot(df_train['epochs'], df_train['loss'], label='train_loss')\n",
    "plt.plot(df_train['epochs'], df_train['val_loss'], label='val_loss')\n",
    "\n",
    "plt.legend(loc=\"upper right\")\n",
    "plt.show()"
   ]
  },
  {
   "cell_type": "markdown",
   "metadata": {
    "id": "ocimg3MBswdS"
   },
   "source": [
    "Se reconstruyen los datos de entrenamiento y se calcula su error en la reconstrucción"
   ]
  },
  {
   "cell_type": "code",
   "execution_count": 11,
   "metadata": {},
   "outputs": [
    {
     "name": "stdout",
     "output_type": "stream",
     "text": [
      "\u001b[1m73/73\u001b[0m \u001b[32m━━━━━━━━━━━━━━━━━━━━\u001b[0m\u001b[37m\u001b[0m \u001b[1m0s\u001b[0m 995us/step\n"
     ]
    },
    {
     "data": {
      "image/png": "[encoded data removed]",
      "text/plain": [
       "<Figure size 640x480 with 1 Axes>"
      ]
     },
     "metadata": {},
     "output_type": "display_data"
    }
   ],
   "source": [
    "reconstructions = autoencoder.predict(normal_train_data)\n",
    "train_loss = tf.keras.losses.mae(reconstructions, normal_train_data)\n",
    "\n",
    "plt.hist(np.array(train_loss), bins=100)\n",
    "plt.title('Distribucción error - Electrocardiograma Normal')\n",
    "plt.xlabel('Error (mae)')\n",
    "plt.show()"
   ]
  },
  {
   "cell_type": "markdown",
   "metadata": {},
   "source": [
    "En base a la distribución de pérdidas, se establece un umbral para el cual los electrocardiogramas de los pacientes deberían ser revisados."
   ]
  },
  {
   "cell_type": "code",
   "execution_count": 12,
   "metadata": {},
   "outputs": [
    {
     "name": "stdout",
     "output_type": "stream",
     "text": [
      "Umbral: 0.04377\n"
     ]
    }
   ],
   "source": [
    "# uso de la mediana porque la distribución no es simétrica\n",
    "umbral = np.round(np.median(train_loss) + 2*np.std(train_loss),5)\n",
    "print('Umbral:', umbral)"
   ]
  },
  {
   "cell_type": "markdown",
   "metadata": {},
   "source": [
    "Se aplica el modelo a la muestra de test. Reconstrucción de los datos y cálculo del error:"
   ]
  },
  {
   "cell_type": "code",
   "execution_count": 13,
   "metadata": {},
   "outputs": [
    {
     "name": "stdout",
     "output_type": "stream",
     "text": [
      "\u001b[1m32/32\u001b[0m \u001b[32m━━━━━━━━━━━━━━━━━━━━\u001b[0m\u001b[37m\u001b[0m \u001b[1m0s\u001b[0m 775us/step\n"
     ]
    },
    {
     "data": {
      "image/png": "[encoded data removed]",
      "text/plain": [
       "<Figure size 640x480 with 1 Axes>"
      ]
     },
     "metadata": {},
     "output_type": "display_data"
    }
   ],
   "source": [
    "reconstructions = autoencoder.predict(test_data_esc)\n",
    "test_loss = tf.keras.losses.mae(reconstructions, test_data_esc)\n",
    "\n",
    "plt.hist(np.array(test_loss), bins=100)\n",
    "plt.axvline(x=umbral, color='red')\n",
    "plt.title('Electrocardiograma muestra Test')\n",
    "plt.xlabel('Error (mae)')\n",
    "plt.show()"
   ]
  },
  {
   "cell_type": "markdown",
   "metadata": {},
   "source": [
    "Así, a partir del error de reconstrucción observamos que existen muchos cardigoramas con un error entre 0.075-0.1"
   ]
  },
  {
   "cell_type": "markdown",
   "metadata": {},
   "source": [
    "Por último, mostramos la bondad de nuestro modelo mediante diferentes métricas:\n",
    "- Accuracy, precision, recall\n",
    "- Matriz de confusión"
   ]
  },
  {
   "cell_type": "code",
   "execution_count": 14,
   "metadata": {},
   "outputs": [],
   "source": [
    "# Funciones bondad de ajuste\n",
    "\n",
    "def predict(model, data, umbral):\n",
    "  reconstructions = model(data)\n",
    "  loss = tf.keras.losses.mae(reconstructions, data)\n",
    "  return np.array(tf.math.less(loss, umbral))\n",
    "\n",
    "def print_sol(preds, labels):\n",
    "  print(\"Accuracy = {}\".format(np.round(accuracy_score(labels, preds),3)))\n",
    "  print(\"Precision = {}\".format(np.round(precision_score(labels, preds),3)))\n",
    "  print(\"Recall = {}\".format(np.round(recall_score(labels, preds),3)))"
   ]
  },
  {
   "cell_type": "code",
   "execution_count": 15,
   "metadata": {
    "colab": {
     "base_uri": "https://localhost:8080/"
    },
    "executionInfo": {
     "elapsed": 600,
     "status": "ok",
     "timestamp": 1606563501133,
     "user": {
      "displayName": "Alberto Oteo",
      "photoUrl": "https://lh3.googleusercontent.com/a-/AOh14GiRyrv0-6M6vUfKhlSklqdFhXXPYfvgGzkAiHL8tA=s64",
      "userId": "02424174392037988918"
     },
     "user_tz": -60
    },
    "id": "sOcfXfXq6FBd",
    "outputId": "78fd3123-1a61-4b3f-a715-ae9ed0e230df"
   },
   "outputs": [
    {
     "name": "stdout",
     "output_type": "stream",
     "text": [
      "Accuracy = 0.956\n",
      "Precision = 0.993\n",
      "Recall = 0.933\n"
     ]
    },
    {
     "data": {
      "image/png": "[encoded data removed]",
      "text/plain": [
       "<Figure size 640x480 with 2 Axes>"
      ]
     },
     "metadata": {},
     "output_type": "display_data"
    }
   ],
   "source": [
    "# Métricas (accuracy, precision, recall)\n",
    "preds = predict(autoencoder, test_data_esc, umbral)\n",
    "print_sol(preds, labels_test)\n",
    "\n",
    "# matriz de confusión\n",
    "sns.heatmap(confusion_matrix(preds, labels_test), cmap=\"Blues\", linewidths=.5, \n",
    "            annot = True,  fmt='.0f', cbar=True)\n",
    "plt.title('Muestra Test')\n",
    "plt.show()"
   ]
  }
 ],
 "metadata": {
  "accelerator": "GPU",
  "colab": {
   "collapsed_sections": [],
   "name": "autoencoder.ipynb",
   "provenance": [],
   "toc_visible": true
  },
  "kernelspec": {
   "display_name": "Python 3 (ipykernel)",
   "language": "python",
   "name": "python3"
  },
  "language_info": {
   "codemirror_mode": {
    "name": "ipython",
    "version": 3
   },
   "file_extension": ".py",
   "mimetype": "text/x-python",
   "name": "python",
   "nbconvert_exporter": "python",
   "pygments_lexer": "ipython3",
   "version": "3.12.1"
  }
 },
 "nbformat": 4,
 "nbformat_minor": 4
}
