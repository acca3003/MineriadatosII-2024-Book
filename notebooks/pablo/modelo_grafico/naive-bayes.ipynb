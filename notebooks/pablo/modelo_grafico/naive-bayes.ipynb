{
 "cells": [
  {
   "cell_type": "markdown",
   "id": "661e8ef5-15ae-4141-9f80-f1fd1b73c6df",
   "metadata": {
    "tags": []
   },
   "source": [
    "# Naive Bayes\n",
    "\n",
    "Se muestra un ejemplo de clasificación binaria con los datos de `german-credit`."
   ]
  },
  {
   "cell_type": "markdown",
   "id": "77a7f0ae-fbd9-472b-ac18-b57c371ecf9e",
   "metadata": {},
   "source": [
    "Importación de librerías y carga de datos"
   ]
  },
  {
   "cell_type": "code",
   "execution_count": 2,
   "id": "3d692d0c-8c7b-489b-95cd-ed87df016b35",
   "metadata": {
    "tags": []
   },
   "outputs": [
    {
     "name": "stdout",
     "output_type": "stream",
     "text": [
      "<class 'pandas.core.frame.DataFrame'>\n",
      "RangeIndex: 1000 entries, 0 to 999\n",
      "Data columns (total 21 columns):\n",
      " #   Column                  Non-Null Count  Dtype \n",
      "---  ------                  --------------  ----- \n",
      " 0   checking_status         1000 non-null   object\n",
      " 1   duration                1000 non-null   int64 \n",
      " 2   credit_history          1000 non-null   object\n",
      " 3   purpose                 1000 non-null   object\n",
      " 4   credit_amount           1000 non-null   int64 \n",
      " 5   savings_status          1000 non-null   object\n",
      " 6   employment              1000 non-null   object\n",
      " 7   installment_commitment  1000 non-null   int64 \n",
      " 8   personal_status         1000 non-null   object\n",
      " 9   other_parties           1000 non-null   object\n",
      " 10  residence_since         1000 non-null   int64 \n",
      " 11  property_magnitude      1000 non-null   object\n",
      " 12  age                     1000 non-null   int64 \n",
      " 13  other_payment_plans     1000 non-null   object\n",
      " 14  housing                 1000 non-null   object\n",
      " 15  existing_credits        1000 non-null   int64 \n",
      " 16  job                     1000 non-null   object\n",
      " 17  num_dependents          1000 non-null   int64 \n",
      " 18  own_telephone           1000 non-null   object\n",
      " 19  foreign_worker          1000 non-null   object\n",
      " 20  class                   1000 non-null   object\n",
      "dtypes: int64(7), object(14)\n",
      "memory usage: 164.2+ KB\n"
     ]
    }
   ],
   "source": [
    "import os\n",
    "import warnings\n",
    "\n",
    "import numpy as np\n",
    "import pandas as pd\n",
    "import seaborn as sns\n",
    "import matplotlib.pyplot as plt\n",
    "\n",
    "\n",
    "from sklearn.naive_bayes import BernoulliNB, GaussianNB \n",
    "\n",
    "from sklearn.preprocessing import StandardScaler\n",
    "from sklearn.model_selection import train_test_split, RepeatedStratifiedKFold, GridSearchCV\n",
    "from sklearn.metrics import accuracy_score, roc_curve, auc, confusion_matrix\n",
    "\n",
    "# Suprimir todas las advertencias\n",
    "warnings.simplefilter(\"ignore\")\n",
    "\n",
    "datos = pd.read_csv(\"../datos/credit_g.csv\")\n",
    "\n",
    "datos.info()"
   ]
  },
  {
   "cell_type": "markdown",
   "id": "bc085893-67c3-4c9b-ab3d-457338021c6c",
   "metadata": {},
   "source": [
    "Se hace una conversión a variables categóricas y se convierte a numérica (1, 0) la variable target:\n",
    "- Si el préstamo es default, se convierte a 1. En caso, contrario es 0"
   ]
  },
  {
   "cell_type": "code",
   "execution_count": 3,
   "id": "3bf4f482-5a8e-4341-9f9f-a674572a4b29",
   "metadata": {
    "tags": []
   },
   "outputs": [],
   "source": [
    "# Pasamos las variables a categóricas\n",
    "datos['checking_status'] = datos['checking_status'].astype('category')\n",
    "datos['credit_history'] = datos['credit_history'].astype('category')\n",
    "datos['purpose'] = datos['purpose'].astype('category')\n",
    "datos['savings_status'] = datos['savings_status'].astype('category')\n",
    "datos['employment'] = datos['employment'].astype('category')\n",
    "datos['personal_status'] = datos['personal_status'].astype('category')\n",
    "datos['other_parties'] = datos['other_parties'].astype('category')\n",
    "datos['property_magnitude'] = datos['property_magnitude'].astype('category')\n",
    "datos['other_payment_plans'] = datos['other_payment_plans'].astype('category')\n",
    "datos['housing'] = datos['housing'].astype('category')\n",
    "datos['job'] = datos['job'].astype('category')\n",
    "datos['property_magnitude'] = datos['property_magnitude'].astype('category')\n",
    "datos['own_telephone'] = datos['own_telephone'].astype('category')\n",
    "datos['foreign_worker'] = datos['foreign_worker'].astype('category')\n",
    "datos['class'] = datos['class'].astype('category')"
   ]
  },
  {
   "cell_type": "code",
   "execution_count": 4,
   "id": "ee2d7cb3-752f-4e6a-9dae-61b8d458bf4c",
   "metadata": {
    "tags": []
   },
   "outputs": [],
   "source": [
    "# La variable class es una variable reservada en diferentes módulos de Python -> reemplazar por por target\n",
    "datos.rename(columns={'class': 'target'}, inplace=True)\n",
    "datos['target']=np.where(datos['target']=='good', 0, 1) # cambio en la codificación por sencillez en el preprocesado"
   ]
  },
  {
   "cell_type": "markdown",
   "id": "da130330-96d6-40be-a6ab-cd38ca12d0ce",
   "metadata": {
    "tags": []
   },
   "source": [
    "Una vez esto, tiene lugar la definición de la muestra:\n",
    "- Conversión a variables dummy de las variables categóricas (excluyendo un nivel para evitar multicolinealidad)\n",
    "- Partición de la muestra (train y test)\n",
    "- Estandarización de los datos (sobre la muestra de entrenamiento y aplicación de resultados sobre muestra de test)\n",
    "- Aplicación de validación cruzada"
   ]
  },
  {
   "cell_type": "code",
   "execution_count": 5,
   "id": "44ea58e0-3040-44ed-bb66-3d7ff5fe6594",
   "metadata": {
    "tags": []
   },
   "outputs": [],
   "source": [
    "# Definición de la muestra de trabajo\n",
    "datos_entrada = datos.drop('target', axis=1) # Datos de entrada\n",
    "datos_entrada = pd.get_dummies(datos_entrada, drop_first=True, dtype=int) #conversión a variables dummy\n",
    "\n",
    "target = datos[\"target\"] # muestra del target"
   ]
  },
  {
   "cell_type": "code",
   "execution_count": 6,
   "id": "a308998f-5637-4034-87a8-bbc241b523b8",
   "metadata": {
    "tags": []
   },
   "outputs": [],
   "source": [
    "# Partición de la muestra\n",
    "\n",
    "test_size = 0.3 # muestra para el test \n",
    "seed = 222 # semilla\n",
    "\n",
    "X_train, X_test, y_train, y_test = train_test_split(\n",
    "    datos_entrada, target, test_size=test_size, random_state=seed, stratify=target\n",
    ")\n",
    "\n",
    "# Estandarización de la muestra\n",
    "esc = StandardScaler().fit(X_train) # valores media y std de los datos de train\n",
    "\n",
    "# aplicación a los datos de train y test\n",
    "X_train_esc = esc.transform(X_train)\n",
    "X_test_esc = esc.transform(X_test)\n",
    "\n",
    "# Validación cruczada\n",
    "cv = RepeatedStratifiedKFold(n_splits=10, n_repeats=2, random_state=seed)"
   ]
  },
  {
   "cell_type": "markdown",
   "id": "235c7092-6925-4b42-93c1-ceff5347f26d",
   "metadata": {},
   "source": [
    "#### Bernoulli Naive Bayes\n",
    "\n",
    "Obtención de hiperparámetros"
   ]
  },
  {
   "cell_type": "code",
   "execution_count": 7,
   "id": "897ace30-7e2f-401d-ad2f-5c5a0a782bd9",
   "metadata": {
    "tags": []
   },
   "outputs": [],
   "source": [
    "bernoulli_nb=BernoulliNB(force_alpha=False)\n",
    "\n",
    "grid=[{'alpha': list(np.arange(0.05, 1, 0.1)), 'binarize': [0.3, 0.1, 0.0]}]"
   ]
  },
  {
   "cell_type": "code",
   "execution_count": 8,
   "id": "7bcde6e1-2913-4004-ae27-50f2c91a1209",
   "metadata": {
    "tags": []
   },
   "outputs": [
    {
     "name": "stdout",
     "output_type": "stream",
     "text": [
      "Naive-Bayes (Bernoulli) (parámetros): {'alpha': 0.35000000000000003, 'binarize': 0.3}\n"
     ]
    }
   ],
   "source": [
    "# Definición del modelo con hiperparámetros\n",
    "gs_bernoulli_nb = GridSearchCV(\n",
    "    estimator=bernoulli_nb, param_grid=grid, scoring='accuracy', cv=cv, n_jobs=1, return_train_score=False\n",
    ")\n",
    "gs_bernoulli_nb = gs_bernoulli_nb.fit(X_train, y_train)\n",
    "\n",
    "print(f'Naive-Bayes (Bernoulli) (parámetros): {gs_bernoulli_nb.best_params_}') # parámetros del modelo final\n",
    "\n",
    "bernoulli_nb = gs_bernoulli_nb.best_estimator_ # modelo final"
   ]
  },
  {
   "cell_type": "markdown",
   "id": "956caed2-4c24-4803-b8fa-91259e61de82",
   "metadata": {},
   "source": [
    "Obtención de probabilidades de cada clase"
   ]
  },
  {
   "cell_type": "code",
   "execution_count": 9,
   "id": "0559ee8e-486f-4669-a4f7-fe86bbf59b3c",
   "metadata": {
    "tags": []
   },
   "outputs": [
    {
     "name": "stdout",
     "output_type": "stream",
     "text": [
      "[-0.35667494 -1.2039728 ]\n",
      "[-0.35667494 -1.2039728 ]\n"
     ]
    },
    {
     "data": {
      "text/plain": [
       "array([[-7.13521258e-04, -7.13521258e-04, -7.13521258e-04,\n",
       "        -7.13521258e-04, -7.13521258e-04, -7.13521258e-04,\n",
       "        -7.13521258e-04, -1.45656902e+00, -1.62784555e+00,\n",
       "        -2.63053455e+00, -1.07574552e+00, -2.49824155e+00,\n",
       "        -6.41517688e-01, -3.85884642e+00, -1.62784555e+00,\n",
       "        -2.06306927e+00, -2.40372023e+00, -3.00330109e+00,\n",
       "        -1.72590991e+00, -4.72565710e+00, -1.19625860e+00,\n",
       "        -3.96045660e+00, -4.07357140e+00, -2.54907842e+00,\n",
       "        -2.81654040e+00, -5.96115527e-01, -2.75061868e+00,\n",
       "        -1.62784555e+00, -1.92823560e+00, -1.28796893e+00,\n",
       "        -2.85120591e+00, -3.46471747e+00, -2.25716801e+00,\n",
       "        -5.81428280e-01, -2.78303643e+00, -9.02587657e-02,\n",
       "        -2.14666010e+00, -1.15015231e+00, -1.12472990e+00,\n",
       "        -1.64306690e-01, -3.28620337e+00, -2.89517871e-01,\n",
       "        -1.80944085e+00, -3.76661520e+00, -1.54808231e+00,\n",
       "        -4.67845780e-01, -8.75998733e-01, -4.23558447e-02],\n",
       "       [-1.66251077e-03, -1.66251077e-03, -1.66251077e-03,\n",
       "        -1.66251077e-03, -1.66251077e-03, -1.66251077e-03,\n",
       "        -1.66251077e-03, -1.01510729e+00, -8.46744304e-01,\n",
       "        -3.11505898e+00, -1.87382130e+00, -2.49684281e+00,\n",
       "        -5.93832431e-01, -2.24360900e+00, -1.26698320e+00,\n",
       "        -2.55620742e+00, -2.19983834e+00, -2.49684281e+00,\n",
       "        -1.55832261e+00, -4.14147497e+00, -1.60446690e+00,\n",
       "        -3.88025948e+00, -6.40025745e+00, -2.11765659e+00,\n",
       "        -3.11505898e+00, -3.71290694e-01, -3.88025948e+00,\n",
       "        -2.19983834e+00, -1.47196910e+00, -1.60446690e+00,\n",
       "        -2.33735441e+00, -2.68668538e+00, -2.61931985e+00,\n",
       "        -7.12314035e-01, -3.22817378e+00, -9.63311089e-02,\n",
       "        -1.49286850e+00, -1.67793935e+00, -1.06891987e+00,\n",
       "        -3.30840285e-01, -2.61931985e+00, -5.35409478e-01,\n",
       "        -1.37356134e+00, -3.88025948e+00, -1.60446690e+00,\n",
       "        -4.80212180e-01, -9.89249352e-01, -1.12159629e-02]])"
      ]
     },
     "execution_count": 9,
     "metadata": {},
     "output_type": "execute_result"
    }
   ],
   "source": [
    "# Resultados importantes de estos algoritmos (acceso dentro del objeto del modelo)\n",
    "print(bernoulli_nb.class_log_prior_)  # logaritmo de la probabilidad de cada clase\n",
    "print(bernoulli_nb.class_log_prior_)  # logaritmo de la probabilidad de cada clase\n",
    "bernoulli_nb.feature_log_prob_ # logaritmo de la probabilidad de la variable dada la clase (P(Xi|Y)"
   ]
  },
  {
   "cell_type": "markdown",
   "id": "bccab56c-37d9-4a0b-a243-0cbd014d03d2",
   "metadata": {},
   "source": [
    "Predicciones para la muestra de entrenamiento y test (curva roc y accuracy)"
   ]
  },
  {
   "cell_type": "code",
   "execution_count": 10,
   "id": "bb54fcdf-20ea-4344-9c1b-c47302e42e40",
   "metadata": {
    "tags": []
   },
   "outputs": [
    {
     "name": "stdout",
     "output_type": "stream",
     "text": [
      "Accuracy\n",
      "------------------------------\n",
      "Entrenamiento (cv): 0.745\n",
      "Test: 0.70667\n"
     ]
    },
    {
     "data": {
      "image/png": "[encoded data removed]",
      "text/plain": [
       "<Figure size 1000x500 with 3 Axes>"
      ]
     },
     "metadata": {},
     "output_type": "display_data"
    }
   ],
   "source": [
    "# Predicciones muestra entrenamiento y test\n",
    "\n",
    "preds_train = bernoulli_nb.predict(X_train)\n",
    "preds_test = bernoulli_nb.predict(X_test)\n",
    "\n",
    "# Cálculo métricas bondad de ajuste \n",
    "print('Accuracy')\n",
    "print('------------------------------')\n",
    "print(f'Entrenamiento (cv): {round(gs_bernoulli_nb.best_score_,5)}')\n",
    "accuracy_test = accuracy_score(y_test, preds_test)\n",
    "print(f'Test: {round(accuracy_test,5)}')\n",
    "\n",
    "# AUC - test y curva roc (final\n",
    "y_pred_test = bernoulli_nb.predict_proba(X_test)\n",
    "fp_rate_test, tp_rate_test, thresholds = roc_curve(y_test, y_pred_test[:,1])\n",
    "auc_test = auc(fp_rate_test, tp_rate_test)\n",
    "\n",
    "# Bondad de ajuste: matriz de confusión y curva roc para los datos de test\n",
    "\n",
    "f, axes = plt.subplots(1, 2, figsize=(10,5))\n",
    "\n",
    "sns.heatmap(confusion_matrix(preds_test, y_test), annot = True, cmap = plt.cm.Reds, fmt='.0f', ax=axes[0]) # matriz de confusión\n",
    "sns.lineplot(x=fp_rate_test, y=tp_rate_test, color='skyblue', label='AUC = %0.2f' % auc_test, ax=axes[1]) # curva roc\n",
    "\n",
    "plt.legend(loc=\"lower right\")\n",
    "plt.show()\n"
   ]
  },
  {
   "cell_type": "markdown",
   "id": "8440f2fe-e689-4e25-b25c-29eba8ec78fd",
   "metadata": {},
   "source": [
    "#### Gaussian Naive Bayes\n",
    "\n",
    "Como en el caso anterior, se parte de una serie de hiperparámetros, se realiza el entrenamiento del modelo y sus predicciones. Finalmente, se analiza el accuracy y la curva roc como de métricas de bondad de ajuste del clasificador"
   ]
  },
  {
   "cell_type": "code",
   "execution_count": 11,
   "id": "97a28286-0631-44bf-bb6a-b3e98d742e95",
   "metadata": {
    "tags": []
   },
   "outputs": [
    {
     "name": "stdout",
     "output_type": "stream",
     "text": [
      "Naive-Bayes (Bernoulli) (parámetros): {'var_smoothing': 0.08}\n",
      "Accuracy\n",
      "------------------------------\n",
      "Entrenamiento (cv):, 0.70571\n",
      "Test: 0.70667\n"
     ]
    },
    {
     "data": {
      "image/png": "[encoded data removed]",
      "text/plain": [
       "<Figure size 1000x500 with 3 Axes>"
      ]
     },
     "metadata": {},
     "output_type": "display_data"
    }
   ],
   "source": [
    "gaussian_nb = GaussianNB()\n",
    "grid=[{'var_smoothing': list(np.arange(0,0.1, 0.02))}]\n",
    "\n",
    "# Definición del modelo con hiperparámetros\n",
    "gs_gaussian_nb=GridSearchCV(\n",
    "    estimator=gaussian_nb, param_grid=grid, scoring='accuracy', cv=cv, n_jobs=1, return_train_score=False\n",
    ")\n",
    "\n",
    "gs_gaussian_nb = gs_gaussian_nb.fit(X_train, y_train)\n",
    "print('Naive-Bayes (Bernoulli) (parámetros):', gs_gaussian_nb.best_params_) \n",
    "\n",
    "#parámetros del modelo final\n",
    "gaussian_nb = gs_gaussian_nb.best_estimator_ #modelo final\n",
    "\n",
    "# predicciones muestra entrenamiento y test\n",
    "\n",
    "preds_train = gaussian_nb.predict(X_train)\n",
    "preds_test = gaussian_nb.predict(X_test)\n",
    "\n",
    "# Cálculo métricas bondad de ajuste \n",
    "\n",
    "print('Accuracy')\n",
    "print('------------------------------')\n",
    "print(f'Entrenamiento (cv):, {round(gs_gaussian_nb.best_score_,5)}')\n",
    "accuracy_test = accuracy_score(y_test, preds_test)\n",
    "print('Test:', round(accuracy_test,5))\n",
    "\n",
    "#AUC - test y curva roc (final)\n",
    "\n",
    "y_pred_test = gaussian_nb.predict_proba(X_test)\n",
    "fp_rate_test, tp_rate_test, thresholds = roc_curve(y_test, y_pred_test[:,1])\n",
    "auc_test = auc(fp_rate_test, tp_rate_test)\n",
    "\n",
    "# Bondad de ajuste: matriz de confusión y curva roc para los datos de test\n",
    "\n",
    "f, axes = plt.subplots(1, 2, figsize=(10,5))\n",
    "\n",
    "sns.heatmap(confusion_matrix(preds_test, y_test), annot = True, cmap = plt.cm.Reds, fmt='.0f', ax=axes[0]) # matriz de confusión\n",
    "sns.lineplot(x=fp_rate_test, y=tp_rate_test, color='skyblue', label='AUC = %0.2f' % auc_test, ax=axes[1]) # curva roc\n",
    "\n",
    "plt.legend(loc=\"lower right\")\n",
    "plt.show()\n"
   ]
  }
 ],
 "metadata": {
  "kernelspec": {
   "display_name": "mineria2_bayes_difusa",
   "language": "python",
   "name": "mineria2_bayes_difusa"
  },
  "language_info": {
   "codemirror_mode": {
    "name": "ipython",
    "version": 3
   },
   "file_extension": ".py",
   "mimetype": "text/x-python",
   "name": "python",
   "nbconvert_exporter": "python",
   "pygments_lexer": "ipython3",
   "version": "3.10.14"
  }
 },
 "nbformat": 4,
 "nbformat_minor": 5
}
