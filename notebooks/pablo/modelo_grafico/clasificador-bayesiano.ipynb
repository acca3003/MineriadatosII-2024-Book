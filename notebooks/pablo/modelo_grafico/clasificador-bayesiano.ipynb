{
 "cells": [
  {
   "cell_type": "markdown",
   "id": "67c65392-edae-4765-9de4-ab01c676e501",
   "metadata": {},
   "source": [
    "# Clasificador Bayesiano - TAN\n",
    "\n",
    "Se muestra un ejemplo de clasificación binaria con los datos de `german-credit`.\n",
    "\n",
    "Importación de librerías y carga de datos"
   ]
  },
  {
   "cell_type": "code",
   "execution_count": 1,
   "id": "c5b1a713-5299-4348-8ba9-10b227529aba",
   "metadata": {},
   "outputs": [
    {
     "name": "stdout",
     "output_type": "stream",
     "text": [
      "<class 'pandas.core.frame.DataFrame'>\n",
      "RangeIndex: 1000 entries, 0 to 999\n",
      "Data columns (total 21 columns):\n",
      " #   Column                  Non-Null Count  Dtype \n",
      "---  ------                  --------------  ----- \n",
      " 0   checking_status         1000 non-null   object\n",
      " 1   duration                1000 non-null   int64 \n",
      " 2   credit_history          1000 non-null   object\n",
      " 3   purpose                 1000 non-null   object\n",
      " 4   credit_amount           1000 non-null   int64 \n",
      " 5   savings_status          1000 non-null   object\n",
      " 6   employment              1000 non-null   object\n",
      " 7   installment_commitment  1000 non-null   int64 \n",
      " 8   personal_status         1000 non-null   object\n",
      " 9   other_parties           1000 non-null   object\n",
      " 10  residence_since         1000 non-null   int64 \n",
      " 11  property_magnitude      1000 non-null   object\n",
      " 12  age                     1000 non-null   int64 \n",
      " 13  other_payment_plans     1000 non-null   object\n",
      " 14  housing                 1000 non-null   object\n",
      " 15  existing_credits        1000 non-null   int64 \n",
      " 16  job                     1000 non-null   object\n",
      " 17  num_dependents          1000 non-null   int64 \n",
      " 18  own_telephone           1000 non-null   object\n",
      " 19  foreign_worker          1000 non-null   object\n",
      " 20  class                   1000 non-null   object\n",
      "dtypes: int64(7), object(14)\n",
      "memory usage: 164.2+ KB\n"
     ]
    }
   ],
   "source": [
    "import os\n",
    "\n",
    "import pandas as pd\n",
    "import numpy as np\n",
    "\n",
    "import pyAgrum.skbn as skbn\n",
    "\n",
    "from sklearn.preprocessing import StandardScaler\n",
    "from sklearn.model_selection import train_test_split\n",
    "from sklearn.metrics import accuracy_score\n",
    "\n",
    "datos = pd.read_csv(\"../datos/credit_g.csv\")\n",
    "\n",
    "datos.info()"
   ]
  },
  {
   "cell_type": "markdown",
   "id": "ea06bf37-0420-4924-ba7a-d65d819905cc",
   "metadata": {},
   "source": [
    "Se hace una conversión a variables categóricas y se convierte a numérica (1, 0) la variable target:\n",
    "- Si el préstamo es default, se convierte a 1. En caso, contrario es 0"
   ]
  },
  {
   "cell_type": "code",
   "execution_count": 2,
   "id": "03459928-0ea0-463e-87f2-3fda03502347",
   "metadata": {
    "tags": []
   },
   "outputs": [],
   "source": [
    "# Pasamos las variables a categóricas\n",
    "datos['checking_status'] = datos['checking_status'].astype('category')\n",
    "datos['credit_history'] = datos['credit_history'].astype('category')\n",
    "datos['purpose'] = datos['purpose'].astype('category')\n",
    "datos['savings_status'] = datos['savings_status'].astype('category')\n",
    "datos['employment'] = datos['employment'].astype('category')\n",
    "datos['personal_status'] = datos['personal_status'].astype('category')\n",
    "datos['other_parties'] = datos['other_parties'].astype('category')\n",
    "datos['property_magnitude'] = datos['property_magnitude'].astype('category')\n",
    "datos['other_payment_plans'] = datos['other_payment_plans'].astype('category')\n",
    "datos['housing'] = datos['housing'].astype('category')\n",
    "datos['job'] = datos['job'].astype('category')\n",
    "datos['property_magnitude'] = datos['property_magnitude'].astype('category')\n",
    "datos['own_telephone'] = datos['own_telephone'].astype('category')\n",
    "datos['foreign_worker'] = datos['foreign_worker'].astype('category')\n",
    "datos['class'] = datos['class'].astype('category')\n",
    "\n",
    "# La variable class es una variable reservada en diferentes módulos de Python -> reemplazar por por target\n",
    "datos.rename(columns={'class': 'target'}, inplace=True)\n",
    "datos['target']=np.where(datos['target']=='good', 0, 1) # cambio en la codificación por sencillez en el preprocesado"
   ]
  },
  {
   "cell_type": "markdown",
   "id": "2fe763e1-f2c6-47ad-8e8c-d137783f7668",
   "metadata": {
    "tags": []
   },
   "source": [
    "Una vez esto, tiene lugar la definición de la muestra:\n",
    "- Conversión a variables dummy de las variables categóricas (excluyendo un nivel para evitar multicolinealidad)\n",
    "- Partición de la muestra (train y test)\n",
    "- Estandarización de los datos (sobre la muestra de entrenamiento y aplicación de resultados sobre muestra de test)"
   ]
  },
  {
   "cell_type": "code",
   "execution_count": 3,
   "id": "ccaf4156-17aa-47d4-86d0-c6920239cbad",
   "metadata": {},
   "outputs": [],
   "source": [
    "# Definición de la muestra de trabajo\n",
    "datos_entrada = datos.drop('target', axis=1) # Datos de entrada\n",
    "datos_entrada = pd.get_dummies(datos_entrada, drop_first=True, dtype=int) #conversión a variables dummy\n",
    "\n",
    "target = datos[\"target\"] # muestra del target"
   ]
  },
  {
   "cell_type": "code",
   "execution_count": 4,
   "id": "fe445ac9-4c4e-4c8f-9fa0-a9798b7f19e4",
   "metadata": {},
   "outputs": [],
   "source": [
    "# Partición de la muestra\n",
    "\n",
    "test_size = 0.3 # muestra para el test \n",
    "seed = 222 # semilla\n",
    "\n",
    "X_train, X_test, y_train, y_test = train_test_split(\n",
    "    datos_entrada, target, test_size=test_size, random_state=seed, stratify=target\n",
    ")\n",
    "\n",
    "# Estandarización de la muestra\n",
    "esc = StandardScaler().fit(X_train) # valores media y std de los datos de train\n",
    "\n",
    "# aplicación a los datos de train y test\n",
    "X_train_esc = esc.transform(X_train)\n",
    "X_test_esc = esc.transform(X_test)"
   ]
  },
  {
   "cell_type": "markdown",
   "id": "8789046e-397e-48dd-925d-3746dbf1955f",
   "metadata": {},
   "source": [
    "Creación y ajuste del clasificador TAN"
   ]
  },
  {
   "cell_type": "code",
   "execution_count": 5,
   "id": "d195f9d3-f3ec-4acd-9b76-e1733f48d768",
   "metadata": {
    "tags": []
   },
   "outputs": [],
   "source": [
    "# Creación del clasificador TAN en python\n",
    "bayesian_network = skbn.BNClassifier(\n",
    "    learningMethod='TAN',\n",
    "    prior='Smoothing',\n",
    "    scoringType='BIC',\n",
    "    priorWeight=0.5,\n",
    "    discretizationStrategy='quantile',\n",
    "    usePR=True,\n",
    "    significant_digit = 6\n",
    ")\n",
    "\n",
    "bayesian_network.fit(X_train, y_train) # ajuste del modelo"
   ]
  },
  {
   "cell_type": "markdown",
   "id": "d50c1d1f-384f-4705-92d6-614f047cbcfa",
   "metadata": {},
   "source": [
    "Predicciones en las muestras de train y test. Uso de accuracy como métrica de bondad de ajuste"
   ]
  },
  {
   "cell_type": "code",
   "execution_count": 8,
   "id": "0b71438e-3843-471d-a71d-56f1f9d89647",
   "metadata": {
    "tags": []
   },
   "outputs": [
    {
     "name": "stdout",
     "output_type": "stream",
     "text": [
      "Accuracy (train) 0.82\n",
      "Accuracy (test) 0.73\n"
     ]
    }
   ],
   "source": [
    "# predicciones para la muestra de train y test\n",
    "\n",
    "train_probs = bayesian_network.predict_proba(X_train)  \n",
    "test_probs = bayesian_network.predict_proba(X_test)\n",
    "\n",
    "# predict-proba proporciona las probabilidades\n",
    "\n",
    "def preds_ones(probs, threshold = 0.5):\n",
    "    return np.where(probs[:, 0] > threshold, 0, 1)\n",
    "\n",
    "y_train_pred = preds_ones(train_probs)\n",
    "y_test_pred = preds_ones(test_probs)\n",
    "\n",
    "print(f'Accuracy (train) {round(accuracy_score(y_train, y_train_pred),2)}')\n",
    "print(f'Accuracy (test) {round(accuracy_score(y_test, y_test_pred), 2)}')"
   ]
  }
 ],
 "metadata": {
  "kernelspec": {
   "display_name": "mineria2_bayes_difusa",
   "language": "python",
   "name": "mineria2_bayes_difusa"
  },
  "language_info": {
   "codemirror_mode": {
    "name": "ipython",
    "version": 3
   },
   "file_extension": ".py",
   "mimetype": "text/x-python",
   "name": "python",
   "nbconvert_exporter": "python",
   "pygments_lexer": "ipython3",
   "version": "3.10.14"
  }
 },
 "nbformat": 4,
 "nbformat_minor": 5
}
